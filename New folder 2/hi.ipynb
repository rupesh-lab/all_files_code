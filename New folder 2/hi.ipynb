{
 "cells": [
  {
   "cell_type": "code",
   "execution_count": null,
   "metadata": {},
   "outputs": [],
   "source": [
    "import pandas as pd\n",
    "import matplotlib.pyplot as plt\n",
    "\n",
    "# Read the CSV file\n",
    "data = pd.read_csv(\"stock_data.csv\")\n",
    "\n",
    "# Plot the cost of 1 stock over time\n",
    "plt.plot(data.index, data['Cost_of_1_stock'], marker='o')\n",
    "plt.title(\"Cost of 1 Stock Over Time\")\n",
    "plt.xlabel(\"Transaction Number\")\n",
    "plt.ylabel(\"Cost of 1 Stock\")\n",
    "plt.grid(True)\n",
    "plt.show()\n"
   ]
  }
 ],
 "metadata": {
  "language_info": {
   "name": "python"
  }
 },
 "nbformat": 4,
 "nbformat_minor": 2
}
